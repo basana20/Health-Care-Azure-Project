{
 "cells": [
  {
   "cell_type": "code",
   "execution_count": 0,
   "metadata": {
    "application/vnd.databricks.v1+cell": {
     "cellMetadata": {
      "byteLimit": 2048000,
      "rowLimit": 10000
     },
     "inputWidgets": {},
     "nuid": "4eb91d47-6f40-4622-8c25-42c90b6a21dd",
     "showTitle": false,
     "title": ""
    }
   },
   "outputs": [],
   "source": [
    "storage_account_name = \"health1care1gen2stg\"\n",
    "container_name = \"gold\"\n",
    "access_key = \"DQsMJ8waN/6oonXhT8JihU00r+aLJ7BDDF2kGffskG+r0GBqNsH7vSHsFc31hkRSZNdDsn03zIzf+AStGUeVoQ==\" \n",
    "\n",
    "spark.conf.set(\n",
    "    f\"fs.azure.account.key.{storage_account_name}.dfs.core.windows.net\",\n",
    "    access_key\n",
    ")"
   ]
  },
  {
   "cell_type": "code",
   "execution_count": 0,
   "metadata": {
    "application/vnd.databricks.v1+cell": {
     "cellMetadata": {
      "byteLimit": 2048000,
      "implicitDf": true,
      "rowLimit": 10000
     },
     "inputWidgets": {},
     "nuid": "66e3e7c8-7298-4884-a4cd-e1dcb48be04a",
     "showTitle": false,
     "title": ""
    }
   },
   "outputs": [
    {
     "output_type": "display_data",
     "data": {
      "text/html": [
       "<style scoped>\n",
       "  .table-result-container {\n",
       "    max-height: 300px;\n",
       "    overflow: auto;\n",
       "  }\n",
       "  table, th, td {\n",
       "    border: 1px solid black;\n",
       "    border-collapse: collapse;\n",
       "  }\n",
       "  th, td {\n",
       "    padding: 5px;\n",
       "  }\n",
       "  th {\n",
       "    text-align: left;\n",
       "  }\n",
       "</style><div class='table-result-container'><table class='table-result'><thead style='background-color: white'><tr></tr></thead><tbody></tbody></table></div>"
      ]
     },
     "metadata": {
      "application/vnd.databricks.v1+output": {
       "addedWidgets": {},
       "aggData": [],
       "aggError": "",
       "aggOverflow": false,
       "aggSchema": [],
       "aggSeriesLimitReached": false,
       "aggType": "",
       "arguments": {},
       "columnCustomDisplayInfos": {},
       "data": [],
       "datasetInfos": [],
       "dbfsResultPath": null,
       "isJsonSchema": true,
       "metadata": {},
       "overflow": false,
       "plotOptions": {
        "customPlotOptions": {},
        "displayType": "table",
        "pivotAggregation": null,
        "pivotColumns": null,
        "xColumns": null,
        "yColumns": null
       },
       "removedWidgets": [],
       "schema": [],
       "type": "table"
      }
     },
     "output_type": "display_data"
    }
   ],
   "source": [
    "%sql\n",
    "use health_care_hive_met;"
   ]
  },
  {
   "cell_type": "markdown",
   "metadata": {
    "application/vnd.databricks.v1+cell": {
     "cellMetadata": {
      "byteLimit": 2048000,
      "rowLimit": 10000
     },
     "inputWidgets": {},
     "nuid": "28f95509-0e22-444f-969e-db034fe21e88",
     "showTitle": false,
     "title": ""
    }
   },
   "source": [
    "## 1. Which disease has a maximum number of claims."
   ]
  },
  {
   "cell_type": "code",
   "execution_count": 0,
   "metadata": {
    "application/vnd.databricks.v1+cell": {
     "cellMetadata": {
      "byteLimit": 2048000,
      "implicitDf": true,
      "rowLimit": 10000
     },
     "inputWidgets": {},
     "nuid": "2ed24647-3a61-4f16-ac6f-69266ae6c39d",
     "showTitle": false,
     "title": ""
    }
   },
   "outputs": [
    {
     "output_type": "display_data",
     "data": {
      "text/html": [
       "<style scoped>\n",
       "  .table-result-container {\n",
       "    max-height: 300px;\n",
       "    overflow: auto;\n",
       "  }\n",
       "  table, th, td {\n",
       "    border: 1px solid black;\n",
       "    border-collapse: collapse;\n",
       "  }\n",
       "  th, td {\n",
       "    padding: 5px;\n",
       "  }\n",
       "  th {\n",
       "    text-align: left;\n",
       "  }\n",
       "</style><div class='table-result-container'><table class='table-result'><thead style='background-color: white'><tr><th>disease_name</th><th>claim_count</th></tr></thead><tbody><tr><td>Pet allergy</td><td>3</td></tr></tbody></table></div>"
      ]
     },
     "metadata": {
      "application/vnd.databricks.v1+output": {
       "addedWidgets": {},
       "aggData": [],
       "aggError": "",
       "aggOverflow": false,
       "aggSchema": [],
       "aggSeriesLimitReached": false,
       "aggType": "",
       "arguments": {},
       "columnCustomDisplayInfos": {},
       "data": [
        [
         "Pet allergy",
         3
        ]
       ],
       "datasetInfos": [],
       "dbfsResultPath": null,
       "isJsonSchema": true,
       "metadata": {},
       "overflow": false,
       "plotOptions": {
        "customPlotOptions": {},
        "displayType": "table",
        "pivotAggregation": null,
        "pivotColumns": null,
        "xColumns": null,
        "yColumns": null
       },
       "removedWidgets": [],
       "schema": [
        {
         "metadata": "{}",
         "name": "disease_name",
         "type": "\"string\""
        },
        {
         "metadata": "{}",
         "name": "claim_count",
         "type": "\"long\""
        }
       ],
       "type": "table"
      }
     },
     "output_type": "display_data"
    }
   ],
   "source": [
    "%sql\n",
    "SELECT \n",
    "    disease_name,\n",
    "    COUNT(claim_id) AS claim_count\n",
    "FROM \n",
    "    health_care_hive_met.hlt_slv_claims_managed\n",
    "GROUP BY \n",
    "    disease_name\n",
    "ORDER BY \n",
    "    claim_count DESC\n",
    "LIMIT 1;"
   ]
  },
  {
   "cell_type": "code",
   "execution_count": 0,
   "metadata": {
    "application/vnd.databricks.v1+cell": {
     "cellMetadata": {
      "byteLimit": 2048000,
      "rowLimit": 10000
     },
     "inputWidgets": {},
     "nuid": "51f48c91-2cab-4941-951d-af95fcb25b61",
     "showTitle": false,
     "title": ""
    }
   },
   "outputs": [
    {
     "output_type": "display_data",
     "data": {
      "text/html": [
       "<style scoped>\n",
       "  .table-result-container {\n",
       "    max-height: 300px;\n",
       "    overflow: auto;\n",
       "  }\n",
       "  table, th, td {\n",
       "    border: 1px solid black;\n",
       "    border-collapse: collapse;\n",
       "  }\n",
       "  th, td {\n",
       "    padding: 5px;\n",
       "  }\n",
       "  th {\n",
       "    text-align: left;\n",
       "  }\n",
       "</style><div class='table-result-container'><table class='table-result'><thead style='background-color: white'><tr><th>disease_name</th><th>claim_count</th></tr></thead><tbody><tr><td>Pet allergy</td><td>3</td></tr></tbody></table></div>"
      ]
     },
     "metadata": {
      "application/vnd.databricks.v1+output": {
       "addedWidgets": {},
       "aggData": [],
       "aggError": "",
       "aggOverflow": false,
       "aggSchema": [],
       "aggSeriesLimitReached": false,
       "aggType": "",
       "arguments": {},
       "columnCustomDisplayInfos": {},
       "data": [
        [
         "Pet allergy",
         3
        ]
       ],
       "datasetInfos": [],
       "dbfsResultPath": null,
       "isJsonSchema": true,
       "metadata": {},
       "overflow": false,
       "plotOptions": {
        "customPlotOptions": {},
        "displayType": "table",
        "pivotAggregation": null,
        "pivotColumns": null,
        "xColumns": null,
        "yColumns": null
       },
       "removedWidgets": [],
       "schema": [
        {
         "metadata": "{}",
         "name": "disease_name",
         "type": "\"string\""
        },
        {
         "metadata": "{}",
         "name": "claim_count",
         "type": "\"long\""
        }
       ],
       "type": "table"
      }
     },
     "output_type": "display_data"
    }
   ],
   "source": [
    "topic_name = \"001_disease_maximum_claims\"\n",
    "# First, run the SQL query and store the result in a DataFrame\n",
    "dis_max_clm_df = spark.sql(\"\"\"\n",
    "    SELECT \n",
    "    disease_name,\n",
    "    COUNT(claim_id) AS claim_count\n",
    "FROM \n",
    "    health_care_hive_met.hlt_slv_claims_managed\n",
    "GROUP BY \n",
    "    disease_name\n",
    "ORDER BY \n",
    "    claim_count DESC\n",
    "LIMIT 1\n",
    "\"\"\")\n",
    "display(dis_max_clm_df)\n",
    "\n",
    "# Define the path in ADLS Gen 2 where you want to store the CSV file\n",
    "output_path = f\"abfss://{container_name}@{storage_account_name}.dfs.core.windows.net/{topic_name}/\"\n",
    "\n",
    "# Write the DataFrame to the specified ADLS Gen 2 path as a CSV file\n",
    "dis_max_clm_df.write.parquet(output_path, mode='overwrite', compression='snappy')\n"
   ]
  },
  {
   "cell_type": "markdown",
   "metadata": {
    "application/vnd.databricks.v1+cell": {
     "cellMetadata": {
      "byteLimit": 2048000,
      "rowLimit": 10000
     },
     "inputWidgets": {},
     "nuid": "69ab29f7-6d15-4070-9f3c-4d14bff4e565",
     "showTitle": false,
     "title": ""
    }
   },
   "source": [
    "## 2. Find those Subscribers having age less than 30 and they subscribe any subgroup"
   ]
  },
  {
   "cell_type": "code",
   "execution_count": 0,
   "metadata": {
    "application/vnd.databricks.v1+cell": {
     "cellMetadata": {
      "byteLimit": 2048000,
      "implicitDf": true,
      "rowLimit": 10000
     },
     "inputWidgets": {},
     "nuid": "c4729457-5c05-4bc6-8e70-b9daca382fc1",
     "showTitle": false,
     "title": ""
    }
   },
   "outputs": [
    {
     "output_type": "display_data",
     "data": {
      "text/html": [
       "<style scoped>\n",
       "  .table-result-container {\n",
       "    max-height: 300px;\n",
       "    overflow: auto;\n",
       "  }\n",
       "  table, th, td {\n",
       "    border: 1px solid black;\n",
       "    border-collapse: collapse;\n",
       "  }\n",
       "  th, td {\n",
       "    padding: 5px;\n",
       "  }\n",
       "  th {\n",
       "    text-align: left;\n",
       "  }\n",
       "</style><div class='table-result-container'><table class='table-result'><thead style='background-color: white'><tr><th>subscriber_id</th><th>first_name</th><th>last_name</th><th>birth_date</th><th>subgrp_id</th></tr></thead><tbody><tr><td>SUBID10017</td><td>Bandhu</td><td>Seth</td><td>1996-10-15</td><td>S108</td></tr><tr><td>SUBID10083</td><td>Bhilangana</td><td>Pandit</td><td>1995-01-04</td><td>S109</td></tr><tr><td>SUBID10093</td><td>Chandavarman</td><td>Singh</td><td>1997-05-10</td><td>S110</td></tr></tbody></table></div>"
      ]
     },
     "metadata": {
      "application/vnd.databricks.v1+output": {
       "addedWidgets": {},
       "aggData": [],
       "aggError": "",
       "aggOverflow": false,
       "aggSchema": [],
       "aggSeriesLimitReached": false,
       "aggType": "",
       "arguments": {},
       "columnCustomDisplayInfos": {},
       "data": [
        [
         "SUBID10017",
         "Bandhu",
         "Seth",
         "1996-10-15",
         "S108"
        ],
        [
         "SUBID10083",
         "Bhilangana",
         "Pandit",
         "1995-01-04",
         "S109"
        ],
        [
         "SUBID10093",
         "Chandavarman",
         "Singh",
         "1997-05-10",
         "S110"
        ]
       ],
       "datasetInfos": [],
       "dbfsResultPath": null,
       "isJsonSchema": true,
       "metadata": {},
       "overflow": false,
       "plotOptions": {
        "customPlotOptions": {},
        "displayType": "table",
        "pivotAggregation": null,
        "pivotColumns": null,
        "xColumns": null,
        "yColumns": null
       },
       "removedWidgets": [],
       "schema": [
        {
         "metadata": "{}",
         "name": "subscriber_id",
         "type": "\"string\""
        },
        {
         "metadata": "{}",
         "name": "first_name",
         "type": "\"string\""
        },
        {
         "metadata": "{}",
         "name": "last_name",
         "type": "\"string\""
        },
        {
         "metadata": "{}",
         "name": "birth_date",
         "type": "\"date\""
        },
        {
         "metadata": "{}",
         "name": "subgrp_id",
         "type": "\"string\""
        }
       ],
       "type": "table"
      }
     },
     "output_type": "display_data"
    }
   ],
   "source": [
    "%sql\n",
    "SELECT \n",
    "    subscriber_id,\n",
    "    first_name,\n",
    "    last_name,\n",
    "    birth_date,\n",
    "    subgrp_id\n",
    "FROM \n",
    "    hlt_slv_subscriber_managed\n",
    "WHERE \n",
    "    subgrp_id IS NOT NULL\n",
    "    AND DATEDIFF(current_date(), birth_date) / 365 < 30;"
   ]
  },
  {
   "cell_type": "code",
   "execution_count": 0,
   "metadata": {
    "application/vnd.databricks.v1+cell": {
     "cellMetadata": {
      "byteLimit": 2048000,
      "rowLimit": 10000
     },
     "inputWidgets": {},
     "nuid": "b5e2aced-495b-430e-b01a-b9e807db9525",
     "showTitle": false,
     "title": ""
    }
   },
   "outputs": [
    {
     "output_type": "display_data",
     "data": {
      "text/html": [
       "<style scoped>\n",
       "  .table-result-container {\n",
       "    max-height: 300px;\n",
       "    overflow: auto;\n",
       "  }\n",
       "  table, th, td {\n",
       "    border: 1px solid black;\n",
       "    border-collapse: collapse;\n",
       "  }\n",
       "  th, td {\n",
       "    padding: 5px;\n",
       "  }\n",
       "  th {\n",
       "    text-align: left;\n",
       "  }\n",
       "</style><div class='table-result-container'><table class='table-result'><thead style='background-color: white'><tr><th>subscriber_id</th><th>first_name</th><th>last_name</th><th>birth_date</th><th>subgrp_id</th></tr></thead><tbody><tr><td>SUBID10017</td><td>Bandhu</td><td>Seth</td><td>1996-10-15</td><td>S108</td></tr><tr><td>SUBID10083</td><td>Bhilangana</td><td>Pandit</td><td>1995-01-04</td><td>S109</td></tr><tr><td>SUBID10093</td><td>Chandavarman</td><td>Singh</td><td>1997-05-10</td><td>S110</td></tr></tbody></table></div>"
      ]
     },
     "metadata": {
      "application/vnd.databricks.v1+output": {
       "addedWidgets": {},
       "aggData": [],
       "aggError": "",
       "aggOverflow": false,
       "aggSchema": [],
       "aggSeriesLimitReached": false,
       "aggType": "",
       "arguments": {},
       "columnCustomDisplayInfos": {},
       "data": [
        [
         "SUBID10017",
         "Bandhu",
         "Seth",
         "1996-10-15",
         "S108"
        ],
        [
         "SUBID10083",
         "Bhilangana",
         "Pandit",
         "1995-01-04",
         "S109"
        ],
        [
         "SUBID10093",
         "Chandavarman",
         "Singh",
         "1997-05-10",
         "S110"
        ]
       ],
       "datasetInfos": [],
       "dbfsResultPath": null,
       "isJsonSchema": true,
       "metadata": {},
       "overflow": false,
       "plotOptions": {
        "customPlotOptions": {},
        "displayType": "table",
        "pivotAggregation": null,
        "pivotColumns": null,
        "xColumns": null,
        "yColumns": null
       },
       "removedWidgets": [],
       "schema": [
        {
         "metadata": "{}",
         "name": "subscriber_id",
         "type": "\"string\""
        },
        {
         "metadata": "{}",
         "name": "first_name",
         "type": "\"string\""
        },
        {
         "metadata": "{}",
         "name": "last_name",
         "type": "\"string\""
        },
        {
         "metadata": "{}",
         "name": "birth_date",
         "type": "\"date\""
        },
        {
         "metadata": "{}",
         "name": "subgrp_id",
         "type": "\"string\""
        }
       ],
       "type": "table"
      }
     },
     "output_type": "display_data"
    }
   ],
   "source": [
    "topic_name = \"002_sub_with_age_less_30\"\n",
    "# First, run the SQL query and store the result in a DataFrame\n",
    "subscribers_df = spark.sql(\"\"\"\n",
    "    SELECT \n",
    "        subscriber_id,\n",
    "        first_name,\n",
    "        last_name,\n",
    "        birth_date,\n",
    "        subgrp_id\n",
    "    FROM \n",
    "        hlt_slv_subscriber_managed\n",
    "    WHERE \n",
    "        subgrp_id IS NOT NULL\n",
    "        AND DATEDIFF(current_date(), birth_date) / 365 < 30\n",
    "\"\"\")\n",
    "display(subscribers_df)\n",
    "\n",
    "# Define the path in ADLS Gen 2 where you want to store the CSV file\n",
    "output_path = f\"abfss://{container_name}@{storage_account_name}.dfs.core.windows.net/{topic_name}/\"\n",
    "\n",
    "# Write the DataFrame to the specified ADLS Gen 2 path as a CSV file\n",
    "subscribers_df.write.parquet(output_path, mode='overwrite', compression='snappy')"
   ]
  },
  {
   "cell_type": "markdown",
   "metadata": {
    "application/vnd.databricks.v1+cell": {
     "cellMetadata": {
      "byteLimit": 2048000,
      "rowLimit": 10000
     },
     "inputWidgets": {},
     "nuid": "5b29e1f4-3d4b-4f73-8f46-ae146d973f88",
     "showTitle": false,
     "title": ""
    }
   },
   "source": [
    "## 3. Find out which group has maximum subgroups."
   ]
  },
  {
   "cell_type": "code",
   "execution_count": 0,
   "metadata": {
    "application/vnd.databricks.v1+cell": {
     "cellMetadata": {
      "byteLimit": 2048000,
      "implicitDf": true,
      "rowLimit": 10000
     },
     "inputWidgets": {},
     "nuid": "64f58a0e-b274-45c7-9149-6117805ab382",
     "showTitle": false,
     "title": ""
    }
   },
   "outputs": [
    {
     "output_type": "display_data",
     "data": {
      "text/html": [
       "<style scoped>\n",
       "  .table-result-container {\n",
       "    max-height: 300px;\n",
       "    overflow: auto;\n",
       "  }\n",
       "  table, th, td {\n",
       "    border: 1px solid black;\n",
       "    border-collapse: collapse;\n",
       "  }\n",
       "  th, td {\n",
       "    padding: 5px;\n",
       "  }\n",
       "  th {\n",
       "    text-align: left;\n",
       "  }\n",
       "</style><div class='table-result-container'><table class='table-result'><thead style='background-color: white'><tr><th>group_id</th><th>group_name</th><th>subgroup_count</th></tr></thead><tbody><tr><td>GRP147</td><td>Raheja QBE General Insurance</td><td>2</td></tr></tbody></table></div>"
      ]
     },
     "metadata": {
      "application/vnd.databricks.v1+output": {
       "addedWidgets": {},
       "aggData": [],
       "aggError": "",
       "aggOverflow": false,
       "aggSchema": [],
       "aggSeriesLimitReached": false,
       "aggType": "",
       "arguments": {},
       "columnCustomDisplayInfos": {},
       "data": [
        [
         "GRP147",
         "Raheja QBE General Insurance",
         2
        ]
       ],
       "datasetInfos": [],
       "dbfsResultPath": null,
       "isJsonSchema": true,
       "metadata": {},
       "overflow": false,
       "plotOptions": {
        "customPlotOptions": {},
        "displayType": "table",
        "pivotAggregation": null,
        "pivotColumns": null,
        "xColumns": null,
        "yColumns": null
       },
       "removedWidgets": [],
       "schema": [
        {
         "metadata": "{}",
         "name": "group_id",
         "type": "\"string\""
        },
        {
         "metadata": "{}",
         "name": "group_name",
         "type": "\"string\""
        },
        {
         "metadata": "{}",
         "name": "subgroup_count",
         "type": "\"long\""
        }
       ],
       "type": "table"
      }
     },
     "output_type": "display_data"
    }
   ],
   "source": [
    "%sql\n",
    "SELECT \n",
    "    g.group_id,\n",
    "    g.group_name,\n",
    "    COUNT(s.subgrp_id) AS subgroup_count\n",
    "FROM \n",
    "    hlt_slv_group_managed g\n",
    "JOIN \n",
    "    hlt_slv_grpsubgrp_managed gs ON g.group_id = gs.group_id\n",
    "JOIN \n",
    "    hlt_slv_subgroup_managed s ON gs.sub_group_id = s.subgrp_id\n",
    "GROUP BY \n",
    "    g.group_id, g.group_name\n",
    "ORDER BY \n",
    "    subgroup_count DESC\n",
    "LIMIT 1;"
   ]
  },
  {
   "cell_type": "code",
   "execution_count": 0,
   "metadata": {
    "application/vnd.databricks.v1+cell": {
     "cellMetadata": {
      "byteLimit": 2048000,
      "rowLimit": 10000
     },
     "inputWidgets": {},
     "nuid": "f7075610-4ad4-4db7-b9ec-5b3e3519e00f",
     "showTitle": false,
     "title": ""
    }
   },
   "outputs": [
    {
     "output_type": "display_data",
     "data": {
      "text/html": [
       "<style scoped>\n",
       "  .table-result-container {\n",
       "    max-height: 300px;\n",
       "    overflow: auto;\n",
       "  }\n",
       "  table, th, td {\n",
       "    border: 1px solid black;\n",
       "    border-collapse: collapse;\n",
       "  }\n",
       "  th, td {\n",
       "    padding: 5px;\n",
       "  }\n",
       "  th {\n",
       "    text-align: left;\n",
       "  }\n",
       "</style><div class='table-result-container'><table class='table-result'><thead style='background-color: white'><tr><th>group_id</th><th>group_name</th><th>subgroup_count</th></tr></thead><tbody><tr><td>GRP147</td><td>Raheja QBE General Insurance</td><td>2</td></tr></tbody></table></div>"
      ]
     },
     "metadata": {
      "application/vnd.databricks.v1+output": {
       "addedWidgets": {},
       "aggData": [],
       "aggError": "",
       "aggOverflow": false,
       "aggSchema": [],
       "aggSeriesLimitReached": false,
       "aggType": "",
       "arguments": {},
       "columnCustomDisplayInfos": {},
       "data": [
        [
         "GRP147",
         "Raheja QBE General Insurance",
         2
        ]
       ],
       "datasetInfos": [],
       "dbfsResultPath": null,
       "isJsonSchema": true,
       "metadata": {},
       "overflow": false,
       "plotOptions": {
        "customPlotOptions": {},
        "displayType": "table",
        "pivotAggregation": null,
        "pivotColumns": null,
        "xColumns": null,
        "yColumns": null
       },
       "removedWidgets": [],
       "schema": [
        {
         "metadata": "{}",
         "name": "group_id",
         "type": "\"string\""
        },
        {
         "metadata": "{}",
         "name": "group_name",
         "type": "\"string\""
        },
        {
         "metadata": "{}",
         "name": "subgroup_count",
         "type": "\"long\""
        }
       ],
       "type": "table"
      }
     },
     "output_type": "display_data"
    }
   ],
   "source": [
    "topic_name = \"003_grp_max_subgrps\"\n",
    "# First, run the SQL query and store the result in a DataFrame\n",
    "grp_max_subgrps_df = spark.sql(\"\"\"\n",
    "    SELECT \n",
    "    g.group_id,\n",
    "    g.group_name,\n",
    "    COUNT(s.subgrp_id) AS subgroup_count\n",
    "FROM \n",
    "    hlt_slv_group_managed g\n",
    "JOIN \n",
    "    hlt_slv_grpsubgrp_managed gs ON g.group_id = gs.group_id\n",
    "JOIN \n",
    "    hlt_slv_subgroup_managed s ON gs.sub_group_id = s.subgrp_id\n",
    "GROUP BY \n",
    "    g.group_id, g.group_name\n",
    "ORDER BY \n",
    "    subgroup_count DESC\n",
    "LIMIT 1\n",
    "\"\"\")\n",
    "display(grp_max_subgrps_df)\n",
    "\n",
    "# Define the path in ADLS Gen 2 where you want to store the CSV file\n",
    "output_path = f\"abfss://{container_name}@{storage_account_name}.dfs.core.windows.net/{topic_name}/\"\n",
    "\n",
    "# Write the DataFrame to the specified ADLS Gen 2 path as a CSV file\n",
    "grp_max_subgrps_df.write.parquet(output_path, mode='overwrite', compression='snappy')"
   ]
  },
  {
   "cell_type": "markdown",
   "metadata": {
    "application/vnd.databricks.v1+cell": {
     "cellMetadata": {
      "byteLimit": 2048000,
      "rowLimit": 10000
     },
     "inputWidgets": {},
     "nuid": "a219d7b9-227d-46e5-8c55-0c33bbf960e3",
     "showTitle": false,
     "title": ""
    }
   },
   "source": [
    "## 4. Find out the hospital that serves the most number of patients"
   ]
  },
  {
   "cell_type": "code",
   "execution_count": 0,
   "metadata": {
    "application/vnd.databricks.v1+cell": {
     "cellMetadata": {
      "byteLimit": 2048000,
      "implicitDf": true,
      "rowLimit": 10000
     },
     "inputWidgets": {},
     "nuid": "82fb6187-b856-4ae7-9e44-1c4428e37732",
     "showTitle": false,
     "title": ""
    }
   },
   "outputs": [
    {
     "output_type": "display_data",
     "data": {
      "text/html": [
       "<style scoped>\n",
       "  .table-result-container {\n",
       "    max-height: 300px;\n",
       "    overflow: auto;\n",
       "  }\n",
       "  table, th, td {\n",
       "    border: 1px solid black;\n",
       "    border-collapse: collapse;\n",
       "  }\n",
       "  th, td {\n",
       "    padding: 5px;\n",
       "  }\n",
       "  th {\n",
       "    text-align: left;\n",
       "  }\n",
       "</style><div class='table-result-container'><table class='table-result'><thead style='background-color: white'><tr><th>hospital_id</th><th>hospital_name</th><th>patient_count</th></tr></thead><tbody><tr><td>H1017</td><td>Manipal Hospitals</td><td>9</td></tr></tbody></table></div>"
      ]
     },
     "metadata": {
      "application/vnd.databricks.v1+output": {
       "addedWidgets": {},
       "aggData": [],
       "aggError": "",
       "aggOverflow": false,
       "aggSchema": [],
       "aggSeriesLimitReached": false,
       "aggType": "",
       "arguments": {},
       "columnCustomDisplayInfos": {},
       "data": [
        [
         "H1017",
         "Manipal Hospitals",
         9
        ]
       ],
       "datasetInfos": [],
       "dbfsResultPath": null,
       "isJsonSchema": true,
       "metadata": {},
       "overflow": false,
       "plotOptions": {
        "customPlotOptions": {},
        "displayType": "table",
        "pivotAggregation": null,
        "pivotColumns": null,
        "xColumns": null,
        "yColumns": null
       },
       "removedWidgets": [],
       "schema": [
        {
         "metadata": "{}",
         "name": "hospital_id",
         "type": "\"string\""
        },
        {
         "metadata": "{}",
         "name": "hospital_name",
         "type": "\"string\""
        },
        {
         "metadata": "{}",
         "name": "patient_count",
         "type": "\"long\""
        }
       ],
       "type": "table"
      }
     },
     "output_type": "display_data"
    }
   ],
   "source": [
    "%sql\n",
    "SELECT \n",
    "    h.hospital_id,\n",
    "    h.hospital_name,\n",
    "    COUNT(p.patient_id) AS patient_count\n",
    "FROM \n",
    "    hlt_slv_hospital_managed h\n",
    "JOIN \n",
    "    hlt_slv_patient_managed p ON h.hospital_id = p.hospital_id\n",
    "GROUP BY \n",
    "    h.hospital_id, h.hospital_name\n",
    "ORDER BY \n",
    "    patient_count DESC\n",
    "LIMIT 1;\n"
   ]
  },
  {
   "cell_type": "code",
   "execution_count": 0,
   "metadata": {
    "application/vnd.databricks.v1+cell": {
     "cellMetadata": {
      "byteLimit": 2048000,
      "rowLimit": 10000
     },
     "inputWidgets": {},
     "nuid": "628a57bd-8610-4988-b117-1ee28233d2e0",
     "showTitle": false,
     "title": ""
    }
   },
   "outputs": [
    {
     "output_type": "display_data",
     "data": {
      "text/html": [
       "<style scoped>\n",
       "  .table-result-container {\n",
       "    max-height: 300px;\n",
       "    overflow: auto;\n",
       "  }\n",
       "  table, th, td {\n",
       "    border: 1px solid black;\n",
       "    border-collapse: collapse;\n",
       "  }\n",
       "  th, td {\n",
       "    padding: 5px;\n",
       "  }\n",
       "  th {\n",
       "    text-align: left;\n",
       "  }\n",
       "</style><div class='table-result-container'><table class='table-result'><thead style='background-color: white'><tr><th>hospital_id</th><th>hospital_name</th><th>patient_count</th></tr></thead><tbody><tr><td>H1017</td><td>Manipal Hospitals</td><td>9</td></tr></tbody></table></div>"
      ]
     },
     "metadata": {
      "application/vnd.databricks.v1+output": {
       "addedWidgets": {},
       "aggData": [],
       "aggError": "",
       "aggOverflow": false,
       "aggSchema": [],
       "aggSeriesLimitReached": false,
       "aggType": "",
       "arguments": {},
       "columnCustomDisplayInfos": {},
       "data": [
        [
         "H1017",
         "Manipal Hospitals",
         9
        ]
       ],
       "datasetInfos": [],
       "dbfsResultPath": null,
       "isJsonSchema": true,
       "metadata": {},
       "overflow": false,
       "plotOptions": {
        "customPlotOptions": {},
        "displayType": "table",
        "pivotAggregation": null,
        "pivotColumns": null,
        "xColumns": null,
        "yColumns": null
       },
       "removedWidgets": [],
       "schema": [
        {
         "metadata": "{}",
         "name": "hospital_id",
         "type": "\"string\""
        },
        {
         "metadata": "{}",
         "name": "hospital_name",
         "type": "\"string\""
        },
        {
         "metadata": "{}",
         "name": "patient_count",
         "type": "\"long\""
        }
       ],
       "type": "table"
      }
     },
     "output_type": "display_data"
    }
   ],
   "source": [
    "topic_name = \"004_hosptl_most_num_of_patients\"\n",
    "# First, run the SQL query and store the result in a DataFrame\n",
    "grp_max_subgrps_df = spark.sql(\"\"\"\n",
    "   SELECT \n",
    "    h.hospital_id,\n",
    "    h.hospital_name,\n",
    "    COUNT(p.patient_id) AS patient_count\n",
    "FROM \n",
    "    hlt_slv_hospital_managed h\n",
    "JOIN \n",
    "    hlt_slv_patient_managed p ON h.hospital_id = p.hospital_id\n",
    "GROUP BY \n",
    "    h.hospital_id, h.hospital_name\n",
    "ORDER BY \n",
    "    patient_count DESC\n",
    "LIMIT 1\n",
    "\"\"\")\n",
    "display(grp_max_subgrps_df)\n",
    "\n",
    "# Define the path in ADLS Gen 2 where you want to store the CSV file\n",
    "output_path = f\"abfss://{container_name}@{storage_account_name}.dfs.core.windows.net/{topic_name}/\"\n",
    "\n",
    "# Write the DataFrame to the specified ADLS Gen 2 path as a CSV file\n",
    "grp_max_subgrps_df.write.parquet(output_path, mode='overwrite', compression='snappy')"
   ]
  },
  {
   "cell_type": "markdown",
   "metadata": {
    "application/vnd.databricks.v1+cell": {
     "cellMetadata": {
      "byteLimit": 2048000,
      "rowLimit": 10000
     },
     "inputWidgets": {},
     "nuid": "5e47d1c9-5ef4-4649-a5d7-c2c7d2b51cd0",
     "showTitle": false,
     "title": ""
    }
   },
   "source": [
    "## 5. Find out which subgroups are subscribed to the most number of times"
   ]
  },
  {
   "cell_type": "code",
   "execution_count": 0,
   "metadata": {
    "application/vnd.databricks.v1+cell": {
     "cellMetadata": {
      "byteLimit": 2048000,
      "implicitDf": true,
      "rowLimit": 10000
     },
     "inputWidgets": {},
     "nuid": "2560d210-5b92-4b0b-9c17-d42591b2b054",
     "showTitle": false,
     "title": ""
    }
   },
   "outputs": [
    {
     "output_type": "display_data",
     "data": {
      "text/html": [
       "<style scoped>\n",
       "  .table-result-container {\n",
       "    max-height: 300px;\n",
       "    overflow: auto;\n",
       "  }\n",
       "  table, th, td {\n",
       "    border: 1px solid black;\n",
       "    border-collapse: collapse;\n",
       "  }\n",
       "  th, td {\n",
       "    padding: 5px;\n",
       "  }\n",
       "  th {\n",
       "    text-align: left;\n",
       "  }\n",
       "</style><div class='table-result-container'><table class='table-result'><thead style='background-color: white'><tr><th>subgrp_id</th><th>sub_grp_name</th><th>subscriber_count</th></tr></thead><tbody><tr><td>S104</td><td>Therapy</td><td>13</td></tr></tbody></table></div>"
      ]
     },
     "metadata": {
      "application/vnd.databricks.v1+output": {
       "addedWidgets": {},
       "aggData": [],
       "aggError": "",
       "aggOverflow": false,
       "aggSchema": [],
       "aggSeriesLimitReached": false,
       "aggType": "",
       "arguments": {},
       "columnCustomDisplayInfos": {},
       "data": [
        [
         "S104",
         "Therapy",
         13
        ]
       ],
       "datasetInfos": [],
       "dbfsResultPath": null,
       "isJsonSchema": true,
       "metadata": {},
       "overflow": false,
       "plotOptions": {
        "customPlotOptions": {},
        "displayType": "table",
        "pivotAggregation": null,
        "pivotColumns": null,
        "xColumns": null,
        "yColumns": null
       },
       "removedWidgets": [],
       "schema": [
        {
         "metadata": "{}",
         "name": "subgrp_id",
         "type": "\"string\""
        },
        {
         "metadata": "{}",
         "name": "sub_grp_name",
         "type": "\"string\""
        },
        {
         "metadata": "{}",
         "name": "subscriber_count",
         "type": "\"long\""
        }
       ],
       "type": "table"
      }
     },
     "output_type": "display_data"
    }
   ],
   "source": [
    "%sql\n",
    "SELECT \n",
    "    s.subgrp_id,\n",
    "    s.sub_grp_name,\n",
    "    COUNT(sm.subscriber_id) AS subscriber_count\n",
    "FROM \n",
    "    hlt_slv_subgroup_managed s\n",
    "JOIN \n",
    "    hlt_slv_subscriber_managed sm ON s.subgrp_id = sm.subgrp_id\n",
    "GROUP BY \n",
    "    s.subgrp_id, s.sub_grp_name\n",
    "ORDER BY \n",
    "    subscriber_count DESC\n",
    "LIMIT 1;\n"
   ]
  },
  {
   "cell_type": "code",
   "execution_count": 0,
   "metadata": {
    "application/vnd.databricks.v1+cell": {
     "cellMetadata": {
      "byteLimit": 2048000,
      "rowLimit": 10000
     },
     "inputWidgets": {},
     "nuid": "d52786d9-a210-4928-a052-c46c7d07ef62",
     "showTitle": false,
     "title": ""
    }
   },
   "outputs": [
    {
     "output_type": "display_data",
     "data": {
      "text/html": [
       "<style scoped>\n",
       "  .table-result-container {\n",
       "    max-height: 300px;\n",
       "    overflow: auto;\n",
       "  }\n",
       "  table, th, td {\n",
       "    border: 1px solid black;\n",
       "    border-collapse: collapse;\n",
       "  }\n",
       "  th, td {\n",
       "    padding: 5px;\n",
       "  }\n",
       "  th {\n",
       "    text-align: left;\n",
       "  }\n",
       "</style><div class='table-result-container'><table class='table-result'><thead style='background-color: white'><tr><th>subgrp_id</th><th>sub_grp_name</th><th>subscriber_count</th></tr></thead><tbody><tr><td>S104</td><td>Therapy</td><td>13</td></tr></tbody></table></div>"
      ]
     },
     "metadata": {
      "application/vnd.databricks.v1+output": {
       "addedWidgets": {},
       "aggData": [],
       "aggError": "",
       "aggOverflow": false,
       "aggSchema": [],
       "aggSeriesLimitReached": false,
       "aggType": "",
       "arguments": {},
       "columnCustomDisplayInfos": {},
       "data": [
        [
         "S104",
         "Therapy",
         13
        ]
       ],
       "datasetInfos": [],
       "dbfsResultPath": null,
       "isJsonSchema": true,
       "metadata": {},
       "overflow": false,
       "plotOptions": {
        "customPlotOptions": {},
        "displayType": "table",
        "pivotAggregation": null,
        "pivotColumns": null,
        "xColumns": null,
        "yColumns": null
       },
       "removedWidgets": [],
       "schema": [
        {
         "metadata": "{}",
         "name": "subgrp_id",
         "type": "\"string\""
        },
        {
         "metadata": "{}",
         "name": "sub_grp_name",
         "type": "\"string\""
        },
        {
         "metadata": "{}",
         "name": "subscriber_count",
         "type": "\"long\""
        }
       ],
       "type": "table"
      }
     },
     "output_type": "display_data"
    }
   ],
   "source": [
    "topic_name = \"005_subgrps_subs_most_num_of_times\"\n",
    "# First, run the SQL query and store the result in a DataFrame\n",
    "subgrp_max_subs_df = spark.sql(\"\"\"\n",
    "   SELECT \n",
    "    s.subgrp_id,\n",
    "    s.sub_grp_name,\n",
    "    COUNT(sm.subscriber_id) AS subscriber_count\n",
    "FROM \n",
    "    hlt_slv_subgroup_managed s\n",
    "JOIN \n",
    "    hlt_slv_subscriber_managed sm ON s.subgrp_id = sm.subgrp_id\n",
    "GROUP BY \n",
    "    s.subgrp_id, s.sub_grp_name\n",
    "ORDER BY \n",
    "    subscriber_count DESC\n",
    "LIMIT 1\n",
    "\"\"\")\n",
    "display(subgrp_max_subs_df)\n",
    "\n",
    "# Define the path in ADLS Gen 2 where you want to store the CSV file\n",
    "output_path = f\"abfss://{container_name}@{storage_account_name}.dfs.core.windows.net/{topic_name}/\"\n",
    "\n",
    "# Write the DataFrame to the specified ADLS Gen 2 path as a CSV file\n",
    "subgrp_max_subs_df.write.parquet(output_path, mode='overwrite', compression='snappy')"
   ]
  },
  {
   "cell_type": "markdown",
   "metadata": {
    "application/vnd.databricks.v1+cell": {
     "cellMetadata": {
      "byteLimit": 2048000,
      "rowLimit": 10000
     },
     "inputWidgets": {},
     "nuid": "0ab1082d-50b3-4bb4-87a7-d087c6245427",
     "showTitle": false,
     "title": ""
    }
   },
   "source": [
    "## 6. Find out the total number of claims that were rejected"
   ]
  },
  {
   "cell_type": "code",
   "execution_count": 0,
   "metadata": {
    "application/vnd.databricks.v1+cell": {
     "cellMetadata": {
      "byteLimit": 2048000,
      "implicitDf": true,
      "rowLimit": 10000
     },
     "inputWidgets": {},
     "nuid": "4bd39839-90bb-46e1-8db5-9f025a03fdd8",
     "showTitle": false,
     "title": ""
    }
   },
   "outputs": [
    {
     "output_type": "display_data",
     "data": {
      "text/html": [
       "<style scoped>\n",
       "  .table-result-container {\n",
       "    max-height: 300px;\n",
       "    overflow: auto;\n",
       "  }\n",
       "  table, th, td {\n",
       "    border: 1px solid black;\n",
       "    border-collapse: collapse;\n",
       "  }\n",
       "  th, td {\n",
       "    padding: 5px;\n",
       "  }\n",
       "  th {\n",
       "    text-align: left;\n",
       "  }\n",
       "</style><div class='table-result-container'><table class='table-result'><thead style='background-color: white'><tr><th>rejected_claims_count</th></tr></thead><tbody><tr><td>0</td></tr></tbody></table></div>"
      ]
     },
     "metadata": {
      "application/vnd.databricks.v1+output": {
       "addedWidgets": {},
       "aggData": [],
       "aggError": "",
       "aggOverflow": false,
       "aggSchema": [],
       "aggSeriesLimitReached": false,
       "aggType": "",
       "arguments": {},
       "columnCustomDisplayInfos": {},
       "data": [
        [
         0
        ]
       ],
       "datasetInfos": [],
       "dbfsResultPath": null,
       "isJsonSchema": true,
       "metadata": {},
       "overflow": false,
       "plotOptions": {
        "customPlotOptions": {},
        "displayType": "table",
        "pivotAggregation": null,
        "pivotColumns": null,
        "xColumns": null,
        "yColumns": null
       },
       "removedWidgets": [],
       "schema": [
        {
         "metadata": "{}",
         "name": "rejected_claims_count",
         "type": "\"long\""
        }
       ],
       "type": "table"
      }
     },
     "output_type": "display_data"
    }
   ],
   "source": [
    "%sql\n",
    "SELECT \n",
    "    COUNT(*) AS rejected_claims_count\n",
    "FROM \n",
    "    hlt_slv_claims_managed\n",
    "WHERE \n",
    "    claim_accept_in = 'Rejected';"
   ]
  },
  {
   "cell_type": "code",
   "execution_count": 0,
   "metadata": {
    "application/vnd.databricks.v1+cell": {
     "cellMetadata": {
      "byteLimit": 2048000,
      "rowLimit": 10000
     },
     "inputWidgets": {},
     "nuid": "73b62f44-c16f-4f65-937a-3dd995ff38ed",
     "showTitle": false,
     "title": ""
    }
   },
   "outputs": [
    {
     "output_type": "display_data",
     "data": {
      "text/html": [
       "<style scoped>\n",
       "  .table-result-container {\n",
       "    max-height: 300px;\n",
       "    overflow: auto;\n",
       "  }\n",
       "  table, th, td {\n",
       "    border: 1px solid black;\n",
       "    border-collapse: collapse;\n",
       "  }\n",
       "  th, td {\n",
       "    padding: 5px;\n",
       "  }\n",
       "  th {\n",
       "    text-align: left;\n",
       "  }\n",
       "</style><div class='table-result-container'><table class='table-result'><thead style='background-color: white'><tr><th>rejected_claims_count</th></tr></thead><tbody><tr><td>0</td></tr></tbody></table></div>"
      ]
     },
     "metadata": {
      "application/vnd.databricks.v1+output": {
       "addedWidgets": {},
       "aggData": [],
       "aggError": "",
       "aggOverflow": false,
       "aggSchema": [],
       "aggSeriesLimitReached": false,
       "aggType": "",
       "arguments": {},
       "columnCustomDisplayInfos": {},
       "data": [
        [
         0
        ]
       ],
       "datasetInfos": [],
       "dbfsResultPath": null,
       "isJsonSchema": true,
       "metadata": {},
       "overflow": false,
       "plotOptions": {
        "customPlotOptions": {},
        "displayType": "table",
        "pivotAggregation": null,
        "pivotColumns": null,
        "xColumns": null,
        "yColumns": null
       },
       "removedWidgets": [],
       "schema": [
        {
         "metadata": "{}",
         "name": "rejected_claims_count",
         "type": "\"long\""
        }
       ],
       "type": "table"
      }
     },
     "output_type": "display_data"
    }
   ],
   "source": [
    "topic_name = \"006_total_claims_rejected\"\n",
    "# First, run the SQL query and store the result in a DataFrame\n",
    "tol_claims_rej_df = spark.sql(\"\"\"\n",
    "   SELECT \n",
    "    COUNT(*) AS rejected_claims_count\n",
    "FROM \n",
    "    hlt_slv_claims_managed\n",
    "WHERE \n",
    "    claim_accept_in = 'Rejected'\n",
    "\"\"\")\n",
    "display(tol_claims_rej_df)\n",
    "\n",
    "# Define the path in ADLS Gen 2 where you want to store the CSV file\n",
    "output_path = f\"abfss://{container_name}@{storage_account_name}.dfs.core.windows.net/{topic_name}/\"\n",
    "\n",
    "# Write the DataFrame to the specified ADLS Gen 2 path as a CSV file\n",
    "tol_claims_rej_df.write.parquet(output_path, mode='overwrite', compression='snappy')"
   ]
  },
  {
   "cell_type": "markdown",
   "metadata": {
    "application/vnd.databricks.v1+cell": {
     "cellMetadata": {
      "byteLimit": 2048000,
      "rowLimit": 10000
     },
     "inputWidgets": {},
     "nuid": "0e7df102-db41-466b-8db8-d81d4f8db466",
     "showTitle": false,
     "title": ""
    }
   },
   "source": [
    "## 7. Find out from which city most claims are coming"
   ]
  },
  {
   "cell_type": "code",
   "execution_count": 0,
   "metadata": {
    "application/vnd.databricks.v1+cell": {
     "cellMetadata": {
      "byteLimit": 2048000,
      "implicitDf": true,
      "rowLimit": 10000
     },
     "inputWidgets": {},
     "nuid": "ac52d85d-2ce8-4f33-a52e-d749f2b9aa8b",
     "showTitle": false,
     "title": ""
    }
   },
   "outputs": [
    {
     "output_type": "display_data",
     "data": {
      "text/html": [
       "<style scoped>\n",
       "  .table-result-container {\n",
       "    max-height: 300px;\n",
       "    overflow: auto;\n",
       "  }\n",
       "  table, th, td {\n",
       "    border: 1px solid black;\n",
       "    border-collapse: collapse;\n",
       "  }\n",
       "  th, td {\n",
       "    padding: 5px;\n",
       "  }\n",
       "  th {\n",
       "    text-align: left;\n",
       "  }\n",
       "</style><div class='table-result-container'><table class='table-result'><thead style='background-color: white'><tr><th>city</th><th>claim_count</th></tr></thead><tbody><tr><td>Mysore</td><td>2</td></tr></tbody></table></div>"
      ]
     },
     "metadata": {
      "application/vnd.databricks.v1+output": {
       "addedWidgets": {},
       "aggData": [],
       "aggError": "",
       "aggOverflow": false,
       "aggSchema": [],
       "aggSeriesLimitReached": false,
       "aggType": "",
       "arguments": {},
       "columnCustomDisplayInfos": {},
       "data": [
        [
         "Mysore",
         2
        ]
       ],
       "datasetInfos": [],
       "dbfsResultPath": null,
       "isJsonSchema": true,
       "metadata": {},
       "overflow": false,
       "plotOptions": {
        "customPlotOptions": {},
        "displayType": "table",
        "pivotAggregation": null,
        "pivotColumns": null,
        "xColumns": null,
        "yColumns": null
       },
       "removedWidgets": [],
       "schema": [
        {
         "metadata": "{}",
         "name": "city",
         "type": "\"string\""
        },
        {
         "metadata": "{}",
         "name": "claim_count",
         "type": "\"long\""
        }
       ],
       "type": "table"
      }
     },
     "output_type": "display_data"
    }
   ],
   "source": [
    "%sql\n",
    "SELECT \n",
    "    p.city,\n",
    "    COUNT(c.claim_id) AS claim_count\n",
    "FROM \n",
    "    hlt_slv_claims_managed c\n",
    "JOIN \n",
    "    hlt_slv_patient_managed p ON c.patient_id = p.patient_id\n",
    "GROUP BY \n",
    "    p.city\n",
    "ORDER BY \n",
    "    claim_count DESC\n",
    "LIMIT 1;"
   ]
  },
  {
   "cell_type": "code",
   "execution_count": 0,
   "metadata": {
    "application/vnd.databricks.v1+cell": {
     "cellMetadata": {
      "byteLimit": 2048000,
      "rowLimit": 10000
     },
     "inputWidgets": {},
     "nuid": "2b73df01-4fe7-439a-afe9-6ae3495866f9",
     "showTitle": false,
     "title": ""
    }
   },
   "outputs": [
    {
     "output_type": "display_data",
     "data": {
      "text/html": [
       "<style scoped>\n",
       "  .table-result-container {\n",
       "    max-height: 300px;\n",
       "    overflow: auto;\n",
       "  }\n",
       "  table, th, td {\n",
       "    border: 1px solid black;\n",
       "    border-collapse: collapse;\n",
       "  }\n",
       "  th, td {\n",
       "    padding: 5px;\n",
       "  }\n",
       "  th {\n",
       "    text-align: left;\n",
       "  }\n",
       "</style><div class='table-result-container'><table class='table-result'><thead style='background-color: white'><tr><th>city</th><th>claim_count</th></tr></thead><tbody><tr><td>Mysore</td><td>2</td></tr></tbody></table></div>"
      ]
     },
     "metadata": {
      "application/vnd.databricks.v1+output": {
       "addedWidgets": {},
       "aggData": [],
       "aggError": "",
       "aggOverflow": false,
       "aggSchema": [],
       "aggSeriesLimitReached": false,
       "aggType": "",
       "arguments": {},
       "columnCustomDisplayInfos": {},
       "data": [
        [
         "Mysore",
         2
        ]
       ],
       "datasetInfos": [],
       "dbfsResultPath": null,
       "isJsonSchema": true,
       "metadata": {},
       "overflow": false,
       "plotOptions": {
        "customPlotOptions": {},
        "displayType": "table",
        "pivotAggregation": null,
        "pivotColumns": null,
        "xColumns": null,
        "yColumns": null
       },
       "removedWidgets": [],
       "schema": [
        {
         "metadata": "{}",
         "name": "city",
         "type": "\"string\""
        },
        {
         "metadata": "{}",
         "name": "claim_count",
         "type": "\"long\""
        }
       ],
       "type": "table"
      }
     },
     "output_type": "display_data"
    }
   ],
   "source": [
    "topic_name = \"007_city_most_claims\"\n",
    "# First, run the SQL query and store the result in a DataFrame\n",
    "city_most_claims_df = spark.sql(\"\"\"\n",
    "   SELECT \n",
    "    p.city,\n",
    "    COUNT(c.claim_id) AS claim_count\n",
    "FROM \n",
    "    hlt_slv_claims_managed c\n",
    "JOIN \n",
    "    hlt_slv_patient_managed p ON c.patient_id = p.patient_id\n",
    "GROUP BY \n",
    "    p.city\n",
    "ORDER BY \n",
    "    claim_count DESC\n",
    "LIMIT 1\n",
    "\"\"\")\n",
    "display(city_most_claims_df)\n",
    "\n",
    "# Define the path in ADLS Gen 2 where you want to store the CSV file\n",
    "output_path = f\"abfss://{container_name}@{storage_account_name}.dfs.core.windows.net/{topic_name}/\"\n",
    "\n",
    "# Write the DataFrame to the specified ADLS Gen 2 path as a CSV file\n",
    "city_most_claims_df.write.parquet(output_path, mode='overwrite', compression='snappy')"
   ]
  },
  {
   "cell_type": "markdown",
   "metadata": {
    "application/vnd.databricks.v1+cell": {
     "cellMetadata": {
      "byteLimit": 2048000,
      "rowLimit": 10000
     },
     "inputWidgets": {},
     "nuid": "dc52bfdf-dfcb-4867-8db3-58290f78f3df",
     "showTitle": false,
     "title": ""
    }
   },
   "source": [
    "## 8. Find out which groups of policies subscribers subscribe to mostly (Government or Private)"
   ]
  },
  {
   "cell_type": "code",
   "execution_count": 0,
   "metadata": {
    "application/vnd.databricks.v1+cell": {
     "cellMetadata": {
      "byteLimit": 2048000,
      "implicitDf": true,
      "rowLimit": 10000
     },
     "inputWidgets": {},
     "nuid": "31157f56-2647-4f88-a08c-c61ecf4e806e",
     "showTitle": false,
     "title": ""
    }
   },
   "outputs": [
    {
     "output_type": "display_data",
     "data": {
      "text/html": [
       "<style scoped>\n",
       "  .table-result-container {\n",
       "    max-height: 300px;\n",
       "    overflow: auto;\n",
       "  }\n",
       "  table, th, td {\n",
       "    border: 1px solid black;\n",
       "    border-collapse: collapse;\n",
       "  }\n",
       "  th, td {\n",
       "    padding: 5px;\n",
       "  }\n",
       "  th {\n",
       "    text-align: left;\n",
       "  }\n",
       "</style><div class='table-result-container'><table class='table-result'><thead style='background-color: white'><tr><th>group_type</th><th>subscriber_count</th></tr></thead><tbody><tr><td>Private</td><td>338</td></tr></tbody></table></div>"
      ]
     },
     "metadata": {
      "application/vnd.databricks.v1+output": {
       "addedWidgets": {},
       "aggData": [],
       "aggError": "",
       "aggOverflow": false,
       "aggSchema": [],
       "aggSeriesLimitReached": false,
       "aggType": "",
       "arguments": {},
       "columnCustomDisplayInfos": {},
       "data": [
        [
         "Private",
         338
        ]
       ],
       "datasetInfos": [],
       "dbfsResultPath": null,
       "isJsonSchema": true,
       "metadata": {},
       "overflow": false,
       "plotOptions": {
        "customPlotOptions": {},
        "displayType": "table",
        "pivotAggregation": null,
        "pivotColumns": null,
        "xColumns": null,
        "yColumns": null
       },
       "removedWidgets": [],
       "schema": [
        {
         "metadata": "{}",
         "name": "group_type",
         "type": "\"string\""
        },
        {
         "metadata": "{}",
         "name": "subscriber_count",
         "type": "\"long\""
        }
       ],
       "type": "table"
      }
     },
     "output_type": "display_data"
    }
   ],
   "source": [
    "%sql\n",
    "SELECT \n",
    "    g.group_type,\n",
    "    COUNT(sm.subscriber_id) AS subscriber_count\n",
    "FROM \n",
    "    hlt_slv_group_managed g\n",
    "JOIN \n",
    "    hlt_slv_grpsubgrp_managed gs ON g.group_id = gs.group_id\n",
    "JOIN \n",
    "    hlt_slv_subscriber_managed sm ON gs.sub_group_id = sm.subgrp_id\n",
    "GROUP BY \n",
    "    g.group_type\n",
    "ORDER BY \n",
    "    subscriber_count DESC\n",
    "LIMIT 1;\n"
   ]
  },
  {
   "cell_type": "code",
   "execution_count": 0,
   "metadata": {
    "application/vnd.databricks.v1+cell": {
     "cellMetadata": {
      "byteLimit": 2048000,
      "rowLimit": 10000
     },
     "inputWidgets": {},
     "nuid": "80b1a438-f528-4a12-8459-ef73732365f2",
     "showTitle": false,
     "title": ""
    }
   },
   "outputs": [
    {
     "output_type": "display_data",
     "data": {
      "text/html": [
       "<style scoped>\n",
       "  .table-result-container {\n",
       "    max-height: 300px;\n",
       "    overflow: auto;\n",
       "  }\n",
       "  table, th, td {\n",
       "    border: 1px solid black;\n",
       "    border-collapse: collapse;\n",
       "  }\n",
       "  th, td {\n",
       "    padding: 5px;\n",
       "  }\n",
       "  th {\n",
       "    text-align: left;\n",
       "  }\n",
       "</style><div class='table-result-container'><table class='table-result'><thead style='background-color: white'><tr><th>city</th><th>claim_count</th></tr></thead><tbody><tr><td>Mysore</td><td>2</td></tr></tbody></table></div>"
      ]
     },
     "metadata": {
      "application/vnd.databricks.v1+output": {
       "addedWidgets": {},
       "aggData": [],
       "aggError": "",
       "aggOverflow": false,
       "aggSchema": [],
       "aggSeriesLimitReached": false,
       "aggType": "",
       "arguments": {},
       "columnCustomDisplayInfos": {},
       "data": [
        [
         "Mysore",
         2
        ]
       ],
       "datasetInfos": [],
       "dbfsResultPath": null,
       "isJsonSchema": true,
       "metadata": {},
       "overflow": false,
       "plotOptions": {
        "customPlotOptions": {},
        "displayType": "table",
        "pivotAggregation": null,
        "pivotColumns": null,
        "xColumns": null,
        "yColumns": null
       },
       "removedWidgets": [],
       "schema": [
        {
         "metadata": "{}",
         "name": "city",
         "type": "\"string\""
        },
        {
         "metadata": "{}",
         "name": "claim_count",
         "type": "\"long\""
        }
       ],
       "type": "table"
      }
     },
     "output_type": "display_data"
    }
   ],
   "source": [
    "topic_name = \"008_grps_of_policies\"\n",
    "# First, run the SQL query and store the result in a DataFrame\n",
    "grps_of_policies_df = spark.sql(\"\"\"\n",
    "   SELECT \n",
    "    p.city,\n",
    "    COUNT(c.claim_id) AS claim_count\n",
    "FROM \n",
    "    hlt_slv_claims_managed c\n",
    "JOIN \n",
    "    hlt_slv_patient_managed p ON c.patient_id = p.patient_id\n",
    "GROUP BY \n",
    "    p.city\n",
    "ORDER BY \n",
    "    claim_count DESC\n",
    "LIMIT 1\n",
    "\"\"\")\n",
    "display(grps_of_policies_df)\n",
    "\n",
    "# Define the path in ADLS Gen 2 where you want to store the CSV file\n",
    "output_path = f\"abfss://{container_name}@{storage_account_name}.dfs.core.windows.net/{topic_name}/\"\n",
    "\n",
    "# Write the DataFrame to the specified ADLS Gen 2 path as a CSV file\n",
    "grps_of_policies_df.write.parquet(output_path, mode='overwrite', compression='snappy')"
   ]
  },
  {
   "cell_type": "markdown",
   "metadata": {
    "application/vnd.databricks.v1+cell": {
     "cellMetadata": {
      "byteLimit": 2048000,
      "rowLimit": 10000
     },
     "inputWidgets": {},
     "nuid": "0b144e73-30c3-444a-9875-7f7b3b6c1e80",
     "showTitle": false,
     "title": ""
    }
   },
   "source": [
    "## 9. Calculate the average monthly premium paid by subscribers"
   ]
  },
  {
   "cell_type": "code",
   "execution_count": 0,
   "metadata": {
    "application/vnd.databricks.v1+cell": {
     "cellMetadata": {
      "byteLimit": 2048000,
      "implicitDf": true,
      "rowLimit": 10000
     },
     "inputWidgets": {},
     "nuid": "a3761422-a006-46f9-a3f8-6de343a9c0aa",
     "showTitle": false,
     "title": ""
    }
   },
   "outputs": [
    {
     "output_type": "display_data",
     "data": {
      "text/html": [
       "<style scoped>\n",
       "  .table-result-container {\n",
       "    max-height: 300px;\n",
       "    overflow: auto;\n",
       "  }\n",
       "  table, th, td {\n",
       "    border: 1px solid black;\n",
       "    border-collapse: collapse;\n",
       "  }\n",
       "  th, td {\n",
       "    padding: 5px;\n",
       "  }\n",
       "  th {\n",
       "    text-align: left;\n",
       "  }\n",
       "</style><div class='table-result-container'><table class='table-result'><thead style='background-color: white'><tr><th>average_monthly_premium</th></tr></thead><tbody><tr><td>1867.3469387755101</td></tr></tbody></table></div>"
      ]
     },
     "metadata": {
      "application/vnd.databricks.v1+output": {
       "addedWidgets": {},
       "aggData": [],
       "aggError": "",
       "aggOverflow": false,
       "aggSchema": [],
       "aggSeriesLimitReached": false,
       "aggType": "",
       "arguments": {},
       "columnCustomDisplayInfos": {},
       "data": [
        [
         1867.3469387755101
        ]
       ],
       "datasetInfos": [],
       "dbfsResultPath": null,
       "isJsonSchema": true,
       "metadata": {},
       "overflow": false,
       "plotOptions": {
        "customPlotOptions": {},
        "displayType": "table",
        "pivotAggregation": null,
        "pivotColumns": null,
        "xColumns": null,
        "yColumns": null
       },
       "removedWidgets": [],
       "schema": [
        {
         "metadata": "{}",
         "name": "average_monthly_premium",
         "type": "\"double\""
        }
       ],
       "type": "table"
      }
     },
     "output_type": "display_data"
    }
   ],
   "source": [
    "%sql\n",
    "SELECT \n",
    "    AVG(sg.monthly_premium) AS average_monthly_premium\n",
    "FROM \n",
    "    hlt_slv_subgroup_managed sg\n",
    "JOIN \n",
    "    hlt_slv_subscriber_managed sm ON sg.subgrp_id = sm.subgrp_id;\n"
   ]
  },
  {
   "cell_type": "code",
   "execution_count": 0,
   "metadata": {
    "application/vnd.databricks.v1+cell": {
     "cellMetadata": {
      "byteLimit": 2048000,
      "rowLimit": 10000
     },
     "inputWidgets": {},
     "nuid": "3bcfdb89-2a55-4102-9edc-1449b9520e58",
     "showTitle": false,
     "title": ""
    }
   },
   "outputs": [
    {
     "output_type": "display_data",
     "data": {
      "text/html": [
       "<style scoped>\n",
       "  .table-result-container {\n",
       "    max-height: 300px;\n",
       "    overflow: auto;\n",
       "  }\n",
       "  table, th, td {\n",
       "    border: 1px solid black;\n",
       "    border-collapse: collapse;\n",
       "  }\n",
       "  th, td {\n",
       "    padding: 5px;\n",
       "  }\n",
       "  th {\n",
       "    text-align: left;\n",
       "  }\n",
       "</style><div class='table-result-container'><table class='table-result'><thead style='background-color: white'><tr><th>average_monthly_premium</th></tr></thead><tbody><tr><td>1867.3469387755101</td></tr></tbody></table></div>"
      ]
     },
     "metadata": {
      "application/vnd.databricks.v1+output": {
       "addedWidgets": {},
       "aggData": [],
       "aggError": "",
       "aggOverflow": false,
       "aggSchema": [],
       "aggSeriesLimitReached": false,
       "aggType": "",
       "arguments": {},
       "columnCustomDisplayInfos": {},
       "data": [
        [
         1867.3469387755101
        ]
       ],
       "datasetInfos": [],
       "dbfsResultPath": null,
       "isJsonSchema": true,
       "metadata": {},
       "overflow": false,
       "plotOptions": {
        "customPlotOptions": {},
        "displayType": "table",
        "pivotAggregation": null,
        "pivotColumns": null,
        "xColumns": null,
        "yColumns": null
       },
       "removedWidgets": [],
       "schema": [
        {
         "metadata": "{}",
         "name": "average_monthly_premium",
         "type": "\"double\""
        }
       ],
       "type": "table"
      }
     },
     "output_type": "display_data"
    }
   ],
   "source": [
    "topic_name = \"009_avg_monthly_prem\"\n",
    "# First, run the SQL query and store the result in a DataFrame\n",
    "avg_monthly_prem_df = spark.sql(\"\"\"\n",
    "   SELECT \n",
    "    AVG(sg.monthly_premium) AS average_monthly_premium\n",
    "FROM \n",
    "    hlt_slv_subgroup_managed sg\n",
    "JOIN \n",
    "    hlt_slv_subscriber_managed sm ON sg.subgrp_id = sm.subgrp_id\n",
    "\"\"\")\n",
    "display(avg_monthly_prem_df)\n",
    "\n",
    "# Define the path in ADLS Gen 2 where you want to store the CSV file\n",
    "output_path = f\"abfss://{container_name}@{storage_account_name}.dfs.core.windows.net/{topic_name}/\"\n",
    "\n",
    "# Write the DataFrame to the specified ADLS Gen 2 path as a CSV file\n",
    "avg_monthly_prem_df.write.parquet(output_path, mode='overwrite', compression='snappy')"
   ]
  },
  {
   "cell_type": "markdown",
   "metadata": {
    "application/vnd.databricks.v1+cell": {
     "cellMetadata": {
      "byteLimit": 2048000,
      "rowLimit": 10000
     },
     "inputWidgets": {},
     "nuid": "d18226ac-477b-4eaf-a0dd-1685441cdd97",
     "showTitle": false,
     "title": ""
    }
   },
   "source": [
    "## 10. Find out which group is the most profitable"
   ]
  },
  {
   "cell_type": "code",
   "execution_count": 0,
   "metadata": {
    "application/vnd.databricks.v1+cell": {
     "cellMetadata": {
      "byteLimit": 2048000,
      "implicitDf": true,
      "rowLimit": 10000
     },
     "inputWidgets": {},
     "nuid": "f204bbef-4666-4a95-867a-180937a7c143",
     "showTitle": false,
     "title": ""
    }
   },
   "outputs": [
    {
     "output_type": "display_data",
     "data": {
      "text/html": [
       "<style scoped>\n",
       "  .table-result-container {\n",
       "    max-height: 300px;\n",
       "    overflow: auto;\n",
       "  }\n",
       "  table, th, td {\n",
       "    border: 1px solid black;\n",
       "    border-collapse: collapse;\n",
       "  }\n",
       "  th, td {\n",
       "    padding: 5px;\n",
       "  }\n",
       "  th {\n",
       "    text-align: left;\n",
       "  }\n",
       "</style><div class='table-result-container'><table class='table-result'><thead style='background-color: white'><tr><th>group_id</th><th>group_name</th><th>total_premium</th></tr></thead><tbody><tr><td>GRP123</td><td>IndiaFirst Life Insurance Co. Ltd.</td><td>99000</td></tr></tbody></table></div>"
      ]
     },
     "metadata": {
      "application/vnd.databricks.v1+output": {
       "addedWidgets": {},
       "aggData": [],
       "aggError": "",
       "aggOverflow": false,
       "aggSchema": [],
       "aggSeriesLimitReached": false,
       "aggType": "",
       "arguments": {},
       "columnCustomDisplayInfos": {},
       "data": [
        [
         "GRP123",
         "IndiaFirst Life Insurance Co. Ltd.",
         99000
        ]
       ],
       "datasetInfos": [],
       "dbfsResultPath": null,
       "isJsonSchema": true,
       "metadata": {},
       "overflow": false,
       "plotOptions": {
        "customPlotOptions": {},
        "displayType": "table",
        "pivotAggregation": null,
        "pivotColumns": null,
        "xColumns": null,
        "yColumns": null
       },
       "removedWidgets": [],
       "schema": [
        {
         "metadata": "{}",
         "name": "group_id",
         "type": "\"string\""
        },
        {
         "metadata": "{}",
         "name": "group_name",
         "type": "\"string\""
        },
        {
         "metadata": "{}",
         "name": "total_premium",
         "type": "\"long\""
        }
       ],
       "type": "table"
      }
     },
     "output_type": "display_data"
    }
   ],
   "source": [
    "%sql\n",
    "SELECT \n",
    "    g.group_id,\n",
    "    g.group_name,\n",
    "    SUM(g.premium_written) AS total_premium\n",
    "FROM \n",
    "    hlt_slv_group_managed g\n",
    "GROUP BY \n",
    "    g.group_id, g.group_name\n",
    "ORDER BY \n",
    "    total_premium DESC\n",
    "LIMIT 1;\n"
   ]
  },
  {
   "cell_type": "code",
   "execution_count": 0,
   "metadata": {
    "application/vnd.databricks.v1+cell": {
     "cellMetadata": {
      "byteLimit": 2048000,
      "rowLimit": 10000
     },
     "inputWidgets": {},
     "nuid": "f834e958-735c-4be9-832d-32492e062bda",
     "showTitle": false,
     "title": ""
    }
   },
   "outputs": [
    {
     "output_type": "display_data",
     "data": {
      "text/html": [
       "<style scoped>\n",
       "  .table-result-container {\n",
       "    max-height: 300px;\n",
       "    overflow: auto;\n",
       "  }\n",
       "  table, th, td {\n",
       "    border: 1px solid black;\n",
       "    border-collapse: collapse;\n",
       "  }\n",
       "  th, td {\n",
       "    padding: 5px;\n",
       "  }\n",
       "  th {\n",
       "    text-align: left;\n",
       "  }\n",
       "</style><div class='table-result-container'><table class='table-result'><thead style='background-color: white'><tr><th>group_id</th><th>group_name</th><th>total_premium</th></tr></thead><tbody><tr><td>GRP123</td><td>IndiaFirst Life Insurance Co. Ltd.</td><td>99000</td></tr></tbody></table></div>"
      ]
     },
     "metadata": {
      "application/vnd.databricks.v1+output": {
       "addedWidgets": {},
       "aggData": [],
       "aggError": "",
       "aggOverflow": false,
       "aggSchema": [],
       "aggSeriesLimitReached": false,
       "aggType": "",
       "arguments": {},
       "columnCustomDisplayInfos": {},
       "data": [
        [
         "GRP123",
         "IndiaFirst Life Insurance Co. Ltd.",
         99000
        ]
       ],
       "datasetInfos": [],
       "dbfsResultPath": null,
       "isJsonSchema": true,
       "metadata": {},
       "overflow": false,
       "plotOptions": {
        "customPlotOptions": {},
        "displayType": "table",
        "pivotAggregation": null,
        "pivotColumns": null,
        "xColumns": null,
        "yColumns": null
       },
       "removedWidgets": [],
       "schema": [
        {
         "metadata": "{}",
         "name": "group_id",
         "type": "\"string\""
        },
        {
         "metadata": "{}",
         "name": "group_name",
         "type": "\"string\""
        },
        {
         "metadata": "{}",
         "name": "total_premium",
         "type": "\"long\""
        }
       ],
       "type": "table"
      }
     },
     "output_type": "display_data"
    }
   ],
   "source": [
    "topic_name = \"010_grp_most_profit\"\n",
    "# First, run the SQL query and store the result in a DataFrame\n",
    "grp_most_profit_df = spark.sql(\"\"\"\n",
    "   SELECT \n",
    "    g.group_id,\n",
    "    g.group_name,\n",
    "    SUM(g.premium_written) AS total_premium\n",
    "FROM \n",
    "    hlt_slv_group_managed g\n",
    "GROUP BY \n",
    "    g.group_id, g.group_name\n",
    "ORDER BY \n",
    "    total_premium DESC\n",
    "LIMIT 1\n",
    "\"\"\")\n",
    "display(grp_most_profit_df)\n",
    "\n",
    "# Define the path in ADLS Gen 2 where you want to store the CSV file\n",
    "output_path = f\"abfss://{container_name}@{storage_account_name}.dfs.core.windows.net/{topic_name}/\"\n",
    "\n",
    "# Write the DataFrame to the specified ADLS Gen 2 path as a CSV file\n",
    "grp_most_profit_df.write.parquet(output_path, mode='overwrite', compression='snappy')"
   ]
  },
  {
   "cell_type": "markdown",
   "metadata": {
    "application/vnd.databricks.v1+cell": {
     "cellMetadata": {
      "byteLimit": 2048000,
      "rowLimit": 10000
     },
     "inputWidgets": {},
     "nuid": "eff0b556-0e7c-4470-a643-58eb12cdfe3a",
     "showTitle": false,
     "title": ""
    }
   },
   "source": [
    "## 11. List all patients below who were admitted for cancer"
   ]
  },
  {
   "cell_type": "code",
   "execution_count": 0,
   "metadata": {
    "application/vnd.databricks.v1+cell": {
     "cellMetadata": {
      "byteLimit": 2048000,
      "implicitDf": true,
      "rowLimit": 10000
     },
     "inputWidgets": {},
     "nuid": "b2abd769-810b-43fd-ad46-15d655ef8c17",
     "showTitle": false,
     "title": ""
    }
   },
   "outputs": [
    {
     "output_type": "display_data",
     "data": {
      "text/html": [
       "<style scoped>\n",
       "  .table-result-container {\n",
       "    max-height: 300px;\n",
       "    overflow: auto;\n",
       "  }\n",
       "  table, th, td {\n",
       "    border: 1px solid black;\n",
       "    border-collapse: collapse;\n",
       "  }\n",
       "  th, td {\n",
       "    padding: 5px;\n",
       "  }\n",
       "  th {\n",
       "    text-align: left;\n",
       "  }\n",
       "</style><div class='table-result-container'><table class='table-result'><thead style='background-color: white'><tr><th>patient_id</th><th>patient_name</th><th>patient_birth_date</th><th>disease_name</th><th>hospital_id</th></tr></thead><tbody><tr><td>112766</td><td>Brahmdev</td><td>1948-12-20</td><td>Bladder cancer</td><td>H1016</td></tr><tr><td>199252</td><td>Ujjawal</td><td>1980-04-16</td><td>Kidney cancer</td><td>H1009</td></tr><tr><td>156988</td><td>Bhagavaana</td><td>1935-09-16</td><td>Breast cancer</td><td>H1012</td></tr><tr><td>121783</td><td>Paridhi</td><td>1959-03-27</td><td>Bladder cancer</td><td>H1013</td></tr><tr><td>197441</td><td>Deependu</td><td>1952-02-13</td><td>Lung cancer</td><td>H1001</td></tr></tbody></table></div>"
      ]
     },
     "metadata": {
      "application/vnd.databricks.v1+output": {
       "addedWidgets": {},
       "aggData": [],
       "aggError": "",
       "aggOverflow": false,
       "aggSchema": [],
       "aggSeriesLimitReached": false,
       "aggType": "",
       "arguments": {},
       "columnCustomDisplayInfos": {},
       "data": [
        [
         112766,
         "Brahmdev",
         "1948-12-20",
         "Bladder cancer",
         "H1016"
        ],
        [
         199252,
         "Ujjawal",
         "1980-04-16",
         "Kidney cancer",
         "H1009"
        ],
        [
         156988,
         "Bhagavaana",
         "1935-09-16",
         "Breast cancer",
         "H1012"
        ],
        [
         121783,
         "Paridhi",
         "1959-03-27",
         "Bladder cancer",
         "H1013"
        ],
        [
         197441,
         "Deependu",
         "1952-02-13",
         "Lung cancer",
         "H1001"
        ]
       ],
       "datasetInfos": [],
       "dbfsResultPath": null,
       "isJsonSchema": true,
       "metadata": {},
       "overflow": false,
       "plotOptions": {
        "customPlotOptions": {},
        "displayType": "table",
        "pivotAggregation": null,
        "pivotColumns": null,
        "xColumns": null,
        "yColumns": null
       },
       "removedWidgets": [],
       "schema": [
        {
         "metadata": "{}",
         "name": "patient_id",
         "type": "\"integer\""
        },
        {
         "metadata": "{}",
         "name": "patient_name",
         "type": "\"string\""
        },
        {
         "metadata": "{}",
         "name": "patient_birth_date",
         "type": "\"date\""
        },
        {
         "metadata": "{}",
         "name": "disease_name",
         "type": "\"string\""
        },
        {
         "metadata": "{}",
         "name": "hospital_id",
         "type": "\"string\""
        }
       ],
       "type": "table"
      }
     },
     "output_type": "display_data"
    }
   ],
   "source": [
    "%sql\n",
    "SELECT \n",
    "    p.patient_id,\n",
    "    p.patient_name,\n",
    "    p.patient_birth_date,\n",
    "    p.disease_name,\n",
    "    p.hospital_id\n",
    "FROM \n",
    "    hlt_slv_patient_managed p\n",
    "WHERE \n",
    "    p.disease_name LIKE '%cancer%'\n",
    "    AND p.Patient_name IS NOT NULL;"
   ]
  },
  {
   "cell_type": "code",
   "execution_count": 0,
   "metadata": {
    "application/vnd.databricks.v1+cell": {
     "cellMetadata": {
      "byteLimit": 2048000,
      "rowLimit": 10000
     },
     "inputWidgets": {},
     "nuid": "e4fb39c0-e740-445c-8787-78f635be2710",
     "showTitle": false,
     "title": ""
    }
   },
   "outputs": [
    {
     "output_type": "display_data",
     "data": {
      "text/html": [
       "<style scoped>\n",
       "  .table-result-container {\n",
       "    max-height: 300px;\n",
       "    overflow: auto;\n",
       "  }\n",
       "  table, th, td {\n",
       "    border: 1px solid black;\n",
       "    border-collapse: collapse;\n",
       "  }\n",
       "  th, td {\n",
       "    padding: 5px;\n",
       "  }\n",
       "  th {\n",
       "    text-align: left;\n",
       "  }\n",
       "</style><div class='table-result-container'><table class='table-result'><thead style='background-color: white'><tr><th>patient_id</th><th>patient_name</th><th>patient_birth_date</th><th>disease_name</th><th>hospital_id</th></tr></thead><tbody><tr><td>112766</td><td>Brahmdev</td><td>1948-12-20</td><td>Bladder cancer</td><td>H1016</td></tr><tr><td>199252</td><td>Ujjawal</td><td>1980-04-16</td><td>Kidney cancer</td><td>H1009</td></tr><tr><td>156988</td><td>Bhagavaana</td><td>1935-09-16</td><td>Breast cancer</td><td>H1012</td></tr><tr><td>121783</td><td>Paridhi</td><td>1959-03-27</td><td>Bladder cancer</td><td>H1013</td></tr><tr><td>197441</td><td>Deependu</td><td>1952-02-13</td><td>Lung cancer</td><td>H1001</td></tr></tbody></table></div>"
      ]
     },
     "metadata": {
      "application/vnd.databricks.v1+output": {
       "addedWidgets": {},
       "aggData": [],
       "aggError": "",
       "aggOverflow": false,
       "aggSchema": [],
       "aggSeriesLimitReached": false,
       "aggType": "",
       "arguments": {},
       "columnCustomDisplayInfos": {},
       "data": [
        [
         112766,
         "Brahmdev",
         "1948-12-20",
         "Bladder cancer",
         "H1016"
        ],
        [
         199252,
         "Ujjawal",
         "1980-04-16",
         "Kidney cancer",
         "H1009"
        ],
        [
         156988,
         "Bhagavaana",
         "1935-09-16",
         "Breast cancer",
         "H1012"
        ],
        [
         121783,
         "Paridhi",
         "1959-03-27",
         "Bladder cancer",
         "H1013"
        ],
        [
         197441,
         "Deependu",
         "1952-02-13",
         "Lung cancer",
         "H1001"
        ]
       ],
       "datasetInfos": [],
       "dbfsResultPath": null,
       "isJsonSchema": true,
       "metadata": {},
       "overflow": false,
       "plotOptions": {
        "customPlotOptions": {},
        "displayType": "table",
        "pivotAggregation": null,
        "pivotColumns": null,
        "xColumns": null,
        "yColumns": null
       },
       "removedWidgets": [],
       "schema": [
        {
         "metadata": "{}",
         "name": "patient_id",
         "type": "\"integer\""
        },
        {
         "metadata": "{}",
         "name": "patient_name",
         "type": "\"string\""
        },
        {
         "metadata": "{}",
         "name": "patient_birth_date",
         "type": "\"date\""
        },
        {
         "metadata": "{}",
         "name": "disease_name",
         "type": "\"string\""
        },
        {
         "metadata": "{}",
         "name": "hospital_id",
         "type": "\"string\""
        }
       ],
       "type": "table"
      }
     },
     "output_type": "display_data"
    }
   ],
   "source": [
    "topic_name = \"011_patient_with_cancer\"\n",
    "# First, run the SQL query and store the result in a DataFrame\n",
    "patient_with_cancer_df = spark.sql(\"\"\"\n",
    "   SELECT \n",
    "    p.patient_id,\n",
    "    p.patient_name,\n",
    "    p.patient_birth_date,\n",
    "    p.disease_name,\n",
    "    p.hospital_id\n",
    "FROM \n",
    "    hlt_slv_patient_managed p\n",
    "WHERE \n",
    "    p.disease_name LIKE '%cancer%'\n",
    "    AND p.Patient_name IS NOT NULL\n",
    "\"\"\")\n",
    "display(patient_with_cancer_df)\n",
    "\n",
    "# Define the path in ADLS Gen 2 where you want to store the CSV file\n",
    "output_path = f\"abfss://{container_name}@{storage_account_name}.dfs.core.windows.net/{topic_name}/\"\n",
    "\n",
    "# Write the DataFrame to the specified ADLS Gen 2 path as a CSV file\n",
    "patient_with_cancer_df.write.parquet(output_path, mode='overwrite', compression='snappy')"
   ]
  },
  {
   "cell_type": "markdown",
   "metadata": {
    "application/vnd.databricks.v1+cell": {
     "cellMetadata": {
      "byteLimit": 2048000,
      "rowLimit": 10000
     },
     "inputWidgets": {},
     "nuid": "e504eed6-7e2a-4c21-a7a7-46205eb7845d",
     "showTitle": false,
     "title": ""
    }
   },
   "source": [
    "## 12. List patients who have cashless insurance and have total charges greater than or equal to Rs. 50,000"
   ]
  },
  {
   "cell_type": "code",
   "execution_count": 0,
   "metadata": {
    "application/vnd.databricks.v1+cell": {
     "cellMetadata": {
      "byteLimit": 2048000,
      "implicitDf": true,
      "rowLimit": 10000
     },
     "inputWidgets": {},
     "nuid": "65e8f936-f9cc-4fd1-aa7f-2236c6d7764b",
     "showTitle": false,
     "title": ""
    }
   },
   "outputs": [
    {
     "output_type": "display_data",
     "data": {
      "text/html": [
       "<style scoped>\n",
       "  .table-result-container {\n",
       "    max-height: 300px;\n",
       "    overflow: auto;\n",
       "  }\n",
       "  table, th, td {\n",
       "    border: 1px solid black;\n",
       "    border-collapse: collapse;\n",
       "  }\n",
       "  th, td {\n",
       "    padding: 5px;\n",
       "  }\n",
       "  th {\n",
       "    text-align: left;\n",
       "  }\n",
       "</style><div class='table-result-container'><table class='table-result'><thead style='background-color: white'><tr><th>patient_id</th><th>patient_name</th><th>claim_amount</th></tr></thead><tbody><tr><td>112766</td><td>Brahmdev</td><td>151142.0</td></tr><tr><td>171320</td><td>Atasi</td><td>64840.0</td></tr><tr><td>184479</td><td>Bandhu</td><td>161786.0</td></tr><tr><td>156434</td><td>Pushti</td><td>122806.0</td></tr><tr><td>138861</td><td>Upasana</td><td>62985.0</td></tr><tr><td>148674</td><td>Ayushmati</td><td>173600.0</td></tr><tr><td>133107</td><td>Drashti</td><td>160739.0</td></tr><tr><td>197441</td><td>Deependu</td><td>156557.0</td></tr><tr><td>110690</td><td>Laksman</td><td>130339.0</td></tr><tr><td>167423</td><td>Chittesh</td><td>161497.0</td></tr><tr><td>173518</td><td>Gajabahu</td><td>171729.0</td></tr><tr><td>140394</td><td>Jitesh</td><td>139755.0</td></tr><tr><td>115143</td><td>Anshuk</td><td>158255.0</td></tr><tr><td>191132</td><td>Dipesh</td><td>81980.0</td></tr></tbody></table></div>"
      ]
     },
     "metadata": {
      "application/vnd.databricks.v1+output": {
       "addedWidgets": {},
       "aggData": [],
       "aggError": "",
       "aggOverflow": false,
       "aggSchema": [],
       "aggSeriesLimitReached": false,
       "aggType": "",
       "arguments": {},
       "columnCustomDisplayInfos": {},
       "data": [
        [
         112766,
         "Brahmdev",
         151142.0
        ],
        [
         171320,
         "Atasi",
         64840.0
        ],
        [
         184479,
         "Bandhu",
         161786.0
        ],
        [
         156434,
         "Pushti",
         122806.0
        ],
        [
         138861,
         "Upasana",
         62985.0
        ],
        [
         148674,
         "Ayushmati",
         173600.0
        ],
        [
         133107,
         "Drashti",
         160739.0
        ],
        [
         197441,
         "Deependu",
         156557.0
        ],
        [
         110690,
         "Laksman",
         130339.0
        ],
        [
         167423,
         "Chittesh",
         161497.0
        ],
        [
         173518,
         "Gajabahu",
         171729.0
        ],
        [
         140394,
         "Jitesh",
         139755.0
        ],
        [
         115143,
         "Anshuk",
         158255.0
        ],
        [
         191132,
         "Dipesh",
         81980.0
        ]
       ],
       "datasetInfos": [],
       "dbfsResultPath": null,
       "isJsonSchema": true,
       "metadata": {},
       "overflow": false,
       "plotOptions": {
        "customPlotOptions": {},
        "displayType": "table",
        "pivotAggregation": null,
        "pivotColumns": null,
        "xColumns": null,
        "yColumns": null
       },
       "removedWidgets": [],
       "schema": [
        {
         "metadata": "{}",
         "name": "patient_id",
         "type": "\"integer\""
        },
        {
         "metadata": "{}",
         "name": "patient_name",
         "type": "\"string\""
        },
        {
         "metadata": "{}",
         "name": "claim_amount",
         "type": "\"double\""
        }
       ],
       "type": "table"
      }
     },
     "output_type": "display_data"
    }
   ],
   "source": [
    "%sql\n",
    "SELECT \n",
    "    p.patient_id,\n",
    "    p.patient_name,\n",
    "    c.claim_amount\n",
    "FROM \n",
    "    hlt_slv_claims_managed c\n",
    "JOIN \n",
    "    hlt_slv_patient_managed p ON c.patient_id = p.patient_id\n",
    "WHERE \n",
    "    c.claim_type = 'claims of policy'\n",
    "    AND c.claim_amount >= 50000\n",
    "    AND p.Patient_name IS NOT NULL;"
   ]
  },
  {
   "cell_type": "code",
   "execution_count": 0,
   "metadata": {
    "application/vnd.databricks.v1+cell": {
     "cellMetadata": {
      "byteLimit": 2048000,
      "rowLimit": 10000
     },
     "inputWidgets": {},
     "nuid": "a17d5e38-4e2a-4521-be89-16336cdcae8f",
     "showTitle": false,
     "title": ""
    }
   },
   "outputs": [
    {
     "output_type": "display_data",
     "data": {
      "text/html": [
       "<style scoped>\n",
       "  .table-result-container {\n",
       "    max-height: 300px;\n",
       "    overflow: auto;\n",
       "  }\n",
       "  table, th, td {\n",
       "    border: 1px solid black;\n",
       "    border-collapse: collapse;\n",
       "  }\n",
       "  th, td {\n",
       "    padding: 5px;\n",
       "  }\n",
       "  th {\n",
       "    text-align: left;\n",
       "  }\n",
       "</style><div class='table-result-container'><table class='table-result'><thead style='background-color: white'><tr><th>patient_id</th><th>patient_name</th><th>claim_amount</th></tr></thead><tbody><tr><td>112766</td><td>Brahmdev</td><td>151142.0</td></tr><tr><td>171320</td><td>Atasi</td><td>64840.0</td></tr><tr><td>184479</td><td>Bandhu</td><td>161786.0</td></tr><tr><td>156434</td><td>Pushti</td><td>122806.0</td></tr><tr><td>138861</td><td>Upasana</td><td>62985.0</td></tr><tr><td>148674</td><td>Ayushmati</td><td>173600.0</td></tr><tr><td>133107</td><td>Drashti</td><td>160739.0</td></tr><tr><td>197441</td><td>Deependu</td><td>156557.0</td></tr><tr><td>110690</td><td>Laksman</td><td>130339.0</td></tr><tr><td>167423</td><td>Chittesh</td><td>161497.0</td></tr><tr><td>173518</td><td>Gajabahu</td><td>171729.0</td></tr><tr><td>140394</td><td>Jitesh</td><td>139755.0</td></tr><tr><td>115143</td><td>Anshuk</td><td>158255.0</td></tr><tr><td>191132</td><td>Dipesh</td><td>81980.0</td></tr></tbody></table></div>"
      ]
     },
     "metadata": {
      "application/vnd.databricks.v1+output": {
       "addedWidgets": {},
       "aggData": [],
       "aggError": "",
       "aggOverflow": false,
       "aggSchema": [],
       "aggSeriesLimitReached": false,
       "aggType": "",
       "arguments": {},
       "columnCustomDisplayInfos": {},
       "data": [
        [
         112766,
         "Brahmdev",
         151142.0
        ],
        [
         171320,
         "Atasi",
         64840.0
        ],
        [
         184479,
         "Bandhu",
         161786.0
        ],
        [
         156434,
         "Pushti",
         122806.0
        ],
        [
         138861,
         "Upasana",
         62985.0
        ],
        [
         148674,
         "Ayushmati",
         173600.0
        ],
        [
         133107,
         "Drashti",
         160739.0
        ],
        [
         197441,
         "Deependu",
         156557.0
        ],
        [
         110690,
         "Laksman",
         130339.0
        ],
        [
         167423,
         "Chittesh",
         161497.0
        ],
        [
         173518,
         "Gajabahu",
         171729.0
        ],
        [
         140394,
         "Jitesh",
         139755.0
        ],
        [
         115143,
         "Anshuk",
         158255.0
        ],
        [
         191132,
         "Dipesh",
         81980.0
        ]
       ],
       "datasetInfos": [],
       "dbfsResultPath": null,
       "isJsonSchema": true,
       "metadata": {},
       "overflow": false,
       "plotOptions": {
        "customPlotOptions": {},
        "displayType": "table",
        "pivotAggregation": null,
        "pivotColumns": null,
        "xColumns": null,
        "yColumns": null
       },
       "removedWidgets": [],
       "schema": [
        {
         "metadata": "{}",
         "name": "patient_id",
         "type": "\"integer\""
        },
        {
         "metadata": "{}",
         "name": "patient_name",
         "type": "\"string\""
        },
        {
         "metadata": "{}",
         "name": "claim_amount",
         "type": "\"double\""
        }
       ],
       "type": "table"
      }
     },
     "output_type": "display_data"
    }
   ],
   "source": [
    "topic_name = \"012_cashless_ins_claim\"\n",
    "# First, run the SQL query and store the result in a DataFrame\n",
    "cashless_ins_claim_df = spark.sql(\"\"\"\n",
    "SELECT \n",
    "    p.patient_id,\n",
    "    p.patient_name,\n",
    "    c.claim_amount\n",
    "FROM \n",
    "    hlt_slv_claims_managed c\n",
    "JOIN \n",
    "    hlt_slv_patient_managed p ON c.patient_id = p.patient_id\n",
    "WHERE \n",
    "    c.claim_type = 'claims of policy'\n",
    "    AND c.claim_amount >= 50000\n",
    "    AND p.Patient_name IS NOT NULL\n",
    "\"\"\")\n",
    "display(cashless_ins_claim_df)\n",
    "\n",
    "# Define the path in ADLS Gen 2 where you want to store the CSV file\n",
    "output_path = f\"abfss://{container_name}@{storage_account_name}.dfs.core.windows.net/{topic_name}/\"\n",
    "\n",
    "# Write the DataFrame to the specified ADLS Gen 2 path as a CSV file\n",
    "cashless_ins_claim_df.write.parquet(output_path, mode='overwrite', compression='snappy')"
   ]
  },
  {
   "cell_type": "markdown",
   "metadata": {
    "application/vnd.databricks.v1+cell": {
     "cellMetadata": {
      "byteLimit": 2048000,
      "rowLimit": 10000
     },
     "inputWidgets": {},
     "nuid": "3b652fc7-f117-4b31-8a7c-a295a975c1f7",
     "showTitle": false,
     "title": ""
    }
   },
   "source": [
    "## 13. List female patients have allergy"
   ]
  },
  {
   "cell_type": "code",
   "execution_count": 0,
   "metadata": {
    "application/vnd.databricks.v1+cell": {
     "cellMetadata": {
      "byteLimit": 2048000,
      "implicitDf": true,
      "rowLimit": 10000
     },
     "inputWidgets": {},
     "nuid": "8a0fdea6-0d68-406a-a6b7-026c23d4fc10",
     "showTitle": false,
     "title": ""
    }
   },
   "outputs": [
    {
     "output_type": "display_data",
     "data": {
      "text/html": [
       "<style scoped>\n",
       "  .table-result-container {\n",
       "    max-height: 300px;\n",
       "    overflow: auto;\n",
       "  }\n",
       "  table, th, td {\n",
       "    border: 1px solid black;\n",
       "    border-collapse: collapse;\n",
       "  }\n",
       "  th, td {\n",
       "    padding: 5px;\n",
       "  }\n",
       "  th {\n",
       "    text-align: left;\n",
       "  }\n",
       "</style><div class='table-result-container'><table class='table-result'><thead style='background-color: white'><tr><th>patient_id</th><th>patient_name</th><th>patient_gender</th><th>patient_birth_date</th><th>disease_name</th></tr></thead><tbody><tr><td>172579</td><td>Devnath</td><td>Female</td><td>1946-05-01</td><td>Food allergy</td></tr><tr><td>148137</td><td>Umang</td><td>Female</td><td>1963-07-14</td><td>Pet allergy</td></tr><tr><td>119268</td><td>Shivakari</td><td>Female</td><td>1944-11-02</td><td>Mold allergy</td></tr></tbody></table></div>"
      ]
     },
     "metadata": {
      "application/vnd.databricks.v1+output": {
       "addedWidgets": {},
       "aggData": [],
       "aggError": "",
       "aggOverflow": false,
       "aggSchema": [],
       "aggSeriesLimitReached": false,
       "aggType": "",
       "arguments": {},
       "columnCustomDisplayInfos": {},
       "data": [
        [
         172579,
         "Devnath",
         "Female",
         "1946-05-01",
         "Food allergy"
        ],
        [
         148137,
         "Umang",
         "Female",
         "1963-07-14",
         "Pet allergy"
        ],
        [
         119268,
         "Shivakari",
         "Female",
         "1944-11-02",
         "Mold allergy"
        ]
       ],
       "datasetInfos": [],
       "dbfsResultPath": null,
       "isJsonSchema": true,
       "metadata": {},
       "overflow": false,
       "plotOptions": {
        "customPlotOptions": {},
        "displayType": "table",
        "pivotAggregation": null,
        "pivotColumns": null,
        "xColumns": null,
        "yColumns": null
       },
       "removedWidgets": [],
       "schema": [
        {
         "metadata": "{}",
         "name": "patient_id",
         "type": "\"integer\""
        },
        {
         "metadata": "{}",
         "name": "patient_name",
         "type": "\"string\""
        },
        {
         "metadata": "{}",
         "name": "patient_gender",
         "type": "\"string\""
        },
        {
         "metadata": "{}",
         "name": "patient_birth_date",
         "type": "\"date\""
        },
        {
         "metadata": "{}",
         "name": "disease_name",
         "type": "\"string\""
        }
       ],
       "type": "table"
      }
     },
     "output_type": "display_data"
    }
   ],
   "source": [
    "%sql\n",
    "SELECT \n",
    "    p.patient_id,\n",
    "    p.patient_name,\n",
    "    p.patient_gender,\n",
    "    p.patient_birth_date,\n",
    "    p.disease_name\n",
    "FROM \n",
    "    hlt_slv_patient_managed p\n",
    "WHERE \n",
    "    p.patient_gender = 'Female'\n",
    "    AND DATEDIFF(current_date(), p.patient_birth_date) / 365 > 40\n",
    "    AND p.disease_name LIKE '%allergy%'\n",
    "    AND p.Patient_name IS NOT NULL;"
   ]
  },
  {
   "cell_type": "code",
   "execution_count": 0,
   "metadata": {
    "application/vnd.databricks.v1+cell": {
     "cellMetadata": {
      "byteLimit": 2048000,
      "rowLimit": 10000
     },
     "inputWidgets": {},
     "nuid": "1f5a0e3c-9c98-4150-bcbe-de7876924ec5",
     "showTitle": false,
     "title": ""
    }
   },
   "outputs": [
    {
     "output_type": "display_data",
     "data": {
      "text/html": [
       "<style scoped>\n",
       "  .table-result-container {\n",
       "    max-height: 300px;\n",
       "    overflow: auto;\n",
       "  }\n",
       "  table, th, td {\n",
       "    border: 1px solid black;\n",
       "    border-collapse: collapse;\n",
       "  }\n",
       "  th, td {\n",
       "    padding: 5px;\n",
       "  }\n",
       "  th {\n",
       "    text-align: left;\n",
       "  }\n",
       "</style><div class='table-result-container'><table class='table-result'><thead style='background-color: white'><tr><th>patient_id</th><th>patient_name</th><th>patient_gender</th><th>patient_birth_date</th><th>disease_name</th></tr></thead><tbody><tr><td>172579</td><td>Devnath</td><td>Female</td><td>1946-05-01</td><td>Food allergy</td></tr><tr><td>148137</td><td>Umang</td><td>Female</td><td>1963-07-14</td><td>Pet allergy</td></tr><tr><td>119268</td><td>Shivakari</td><td>Female</td><td>1944-11-02</td><td>Mold allergy</td></tr></tbody></table></div>"
      ]
     },
     "metadata": {
      "application/vnd.databricks.v1+output": {
       "addedWidgets": {},
       "aggData": [],
       "aggError": "",
       "aggOverflow": false,
       "aggSchema": [],
       "aggSeriesLimitReached": false,
       "aggType": "",
       "arguments": {},
       "columnCustomDisplayInfos": {},
       "data": [
        [
         172579,
         "Devnath",
         "Female",
         "1946-05-01",
         "Food allergy"
        ],
        [
         148137,
         "Umang",
         "Female",
         "1963-07-14",
         "Pet allergy"
        ],
        [
         119268,
         "Shivakari",
         "Female",
         "1944-11-02",
         "Mold allergy"
        ]
       ],
       "datasetInfos": [],
       "dbfsResultPath": null,
       "isJsonSchema": true,
       "metadata": {},
       "overflow": false,
       "plotOptions": {
        "customPlotOptions": {},
        "displayType": "table",
        "pivotAggregation": null,
        "pivotColumns": null,
        "xColumns": null,
        "yColumns": null
       },
       "removedWidgets": [],
       "schema": [
        {
         "metadata": "{}",
         "name": "patient_id",
         "type": "\"integer\""
        },
        {
         "metadata": "{}",
         "name": "patient_name",
         "type": "\"string\""
        },
        {
         "metadata": "{}",
         "name": "patient_gender",
         "type": "\"string\""
        },
        {
         "metadata": "{}",
         "name": "patient_birth_date",
         "type": "\"date\""
        },
        {
         "metadata": "{}",
         "name": "disease_name",
         "type": "\"string\""
        }
       ],
       "type": "table"
      }
     },
     "output_type": "display_data"
    }
   ],
   "source": [
    "topic_name = \"013_female_patients_allergy\"\n",
    "# First, run the SQL query and store the result in a DataFrame\n",
    "female_allergy_df = spark.sql(\"\"\"\n",
    "SELECT \n",
    "    p.patient_id,\n",
    "    p.patient_name,\n",
    "    p.patient_gender,\n",
    "    p.patient_birth_date,\n",
    "    p.disease_name\n",
    "FROM \n",
    "    hlt_slv_patient_managed p\n",
    "WHERE \n",
    "    p.patient_gender = 'Female'\n",
    "    AND DATEDIFF(current_date(), p.patient_birth_date) / 365 > 40\n",
    "    AND p.disease_name LIKE '%allergy%'\n",
    "    AND p.Patient_name IS NOT NULL\n",
    "\"\"\")\n",
    "display(female_allergy_df)\n",
    "\n",
    "# Define the path in ADLS Gen 2 where you want to store the CSV file\n",
    "output_path = f\"abfss://{container_name}@{storage_account_name}.dfs.core.windows.net/{topic_name}/\"\n",
    "\n",
    "# Write the DataFrame to the specified ADLS Gen 2 path as a CSV file\n",
    "female_allergy_df.write.parquet(output_path, mode='overwrite', compression='snappy')"
   ]
  }
 ],
 "metadata": {
  "application/vnd.databricks.v1+notebook": {
   "dashboards": [],
   "environmentMetadata": null,
   "language": "python",
   "notebookMetadata": {
    "mostRecentlyExecutedCommandWithImplicitDF": {
     "commandId": 4254623172932760,
     "dataframes": [
      "_sqldf"
     ]
    },
    "pythonIndentUnit": 4
   },
   "notebookName": "health-care-hive-logics-nb",
   "widgets": {}
  }
 },
 "nbformat": 4,
 "nbformat_minor": 0
}
